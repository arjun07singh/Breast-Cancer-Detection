{
  "nbformat": 4,
  "nbformat_minor": 0,
  "metadata": {
    "colab": {
      "provenance": []
    },
    "kernelspec": {
      "name": "python3",
      "display_name": "Python 3"
    },
    "language_info": {
      "name": "python"
    }
  },
  "cells": [
    {
      "cell_type": "code",
      "execution_count": 1,
      "metadata": {
        "id": "ajke1aMQHH1j",
        "colab": {
          "base_uri": "https://localhost:8080/"
        },
        "outputId": "0cc12572-9eed-4e87-fef3-5c7b7d460a90"
      },
      "outputs": [
        {
          "output_type": "stream",
          "name": "stdout",
          "text": [
            "\u001b[2K     \u001b[90m━━━━━━━━━━━━━━━━━━━━━━━━━━━━━━━━━━━━━━━━\u001b[0m \u001b[32m8.6/8.6 MB\u001b[0m \u001b[31m15.5 MB/s\u001b[0m eta \u001b[36m0:00:00\u001b[0m\n",
            "\u001b[2K     \u001b[90m━━━━━━━━━━━━━━━━━━━━━━━━━━━━━━━━━━━━━━━━\u001b[0m \u001b[32m207.3/207.3 kB\u001b[0m \u001b[31m20.7 MB/s\u001b[0m eta \u001b[36m0:00:00\u001b[0m\n",
            "\u001b[2K     \u001b[90m━━━━━━━━━━━━━━━━━━━━━━━━━━━━━━━━━━━━━━━━\u001b[0m \u001b[32m6.9/6.9 MB\u001b[0m \u001b[31m41.6 MB/s\u001b[0m eta \u001b[36m0:00:00\u001b[0m\n",
            "\u001b[2K     \u001b[90m━━━━━━━━━━━━━━━━━━━━━━━━━━━━━━━━━━━━━━━━\u001b[0m \u001b[32m83.0/83.0 kB\u001b[0m \u001b[31m8.4 MB/s\u001b[0m eta \u001b[36m0:00:00\u001b[0m\n",
            "\u001b[2K     \u001b[90m━━━━━━━━━━━━━━━━━━━━━━━━━━━━━━━━━━━━━━━━\u001b[0m \u001b[32m62.7/62.7 kB\u001b[0m \u001b[31m6.7 MB/s\u001b[0m eta \u001b[36m0:00:00\u001b[0m\n",
            "\u001b[?25h"
          ]
        }
      ],
      "source": [
        "!pip install -q streamlit"
      ]
    },
    {
      "cell_type": "code",
      "execution_count": 8,
      "metadata": {
        "id": "uYt9PxPpkYlJ",
        "colab": {
          "base_uri": "https://localhost:8080/"
        },
        "outputId": "3dc2df65-dddd-479f-d45b-495d147d1e95"
      },
      "outputs": [
        {
          "output_type": "stream",
          "name": "stdout",
          "text": [
            "Overwriting appb.py\n"
          ]
        }
      ],
      "source": [
        "%%writefile appb.py\n",
        "import streamlit as st\n",
        "import pandas as pd\n",
        "from PIL import Image\n",
        "import numpy as np\n",
        "import matplotlib.pyplot as plt\n",
        "import plotly.figure_factory as ff\n",
        "from sklearn.metrics import accuracy_score\n",
        "from sklearn.ensemble import RandomForestClassifier\n",
        "from sklearn.model_selection import train_test_split\n",
        "import seaborn as sns\n",
        "\n",
        "\n",
        "\n",
        "df = pd.read_csv('/content/tumor.csv')\n",
        "\n",
        "# HEADINGS\n",
        "st.title('Breast Cancer Checkup')\n",
        "st.sidebar.header('Patient Data')\n",
        "st.subheader('Training Data')\n",
        "st.write(df.describe())\n",
        "\n",
        "\n",
        "# X AND Y DATA\n",
        "x = df.drop(['Class'], axis = 1)\n",
        "y = df.iloc[:, -1]\n",
        "x_train, x_test, y_train, y_test = train_test_split(x,y, test_size = 0.2, random_state = 0)\n",
        "\n",
        "\n",
        "# FUNCTION\n",
        "def user_report():\n",
        "  ClumpThickness = st.sidebar.slider('Clump Thickness', 1,10, 4 )\n",
        "  UniformityofCellSize = st.sidebar.slider('Uniformity of Cell Size', 1,10, 3 )\n",
        "  UniformityofCellShape = st.sidebar.slider('Uniformity of Cell Shape', 1,10, 3 )\n",
        "  MarginalAdhesion = st.sidebar.slider('Marginal Adhesion', 1,10, 2 )\n",
        "  SingleEpithelialCellSize = st.sidebar.slider('Single Epithelial Cell Size', 1,10, 2 )\n",
        "  BareNuclei = st.sidebar.slider('Bare Nuclei', 1,10, 3 )\n",
        "  BlandChromatin = st.sidebar.slider('Bland Chromatin', 1,10, 3 )\n",
        "  NormalNucleoli = st.sidebar.slider('Normal Nucleoli', 1,10, 2 )\n",
        "  Mitoses = st.sidebar.slider('Mitoses', 1,10, 1 )\n",
        "\n",
        "  user_report_data = {\n",
        "      'ClumpThickness':ClumpThickness,\n",
        "      'UniformityofCellSize':UniformityofCellSize,\n",
        "      'UniformityofCellShape':UniformityofCellShape,\n",
        "      'MarginalAdhesion':MarginalAdhesion,\n",
        "      'SingleEpithelialCellSize':SingleEpithelialCellSize,\n",
        "      'BareNuclei':BareNuclei,\n",
        "      'BlandChromatin':BlandChromatin,\n",
        "      'NormalNucleoli':NormalNucleoli,\n",
        "      'Mitoses':Mitoses\n",
        "  }\n",
        "  report_data = pd.DataFrame(user_report_data, index=[0])\n",
        "  return report_data\n",
        "\n",
        "\n",
        "\n",
        "\n",
        "# PATIENT DATA\n",
        "user_data = user_report()\n",
        "st.subheader('Patient Data')\n",
        "st.write(user_data)\n",
        "\n",
        "\n",
        "\n",
        "\n",
        "# MODEL\n",
        "rf  = RandomForestClassifier()\n",
        "rf.fit(x_train, y_train)\n",
        "user_result = rf.predict(user_data)\n",
        "\n",
        "\n",
        "\n",
        "# VISUALISATIONS\n",
        "st.title('Visualised Patient Report')\n",
        "\n",
        "\n",
        "\n",
        "# COLOR FUNCTION\n",
        "if user_result[0]==2:\n",
        "  color = 'yellow'\n",
        "else:\n",
        "  color = 'pink'\n",
        "\n",
        "\n",
        "# NormalNucleoli vs ClumpThickness\n",
        "st.header('ClumpThickness Graph (Others vs Yours)')\n",
        "fig_preg = plt.figure()\n",
        "ax1 = sns.scatterplot(x = 'NormalNucleoli', y = 'ClumpThickness', data = df, hue = 'Class', palette = 'Greens')\n",
        "ax2 = sns.scatterplot(x = user_data['NormalNucleoli'], y = user_data['ClumpThickness'], s = 150, color = color)\n",
        "plt.xticks(np.arange(0,15,1))\n",
        "plt.yticks(np.arange(0,10,1))\n",
        "plt.title('2 - Healthy & 4 - Unhealthy')\n",
        "st.pyplot(fig_preg)\n",
        "\n",
        "\n",
        "\n",
        "# NormalNucleoli vs UniformityofCellSize\n",
        "st.header('UniformityofCellSize Value Graph (Others vs Yours)')\n",
        "fig_UniformityofCellSize = plt.figure()\n",
        "ax3 = sns.scatterplot(x = 'NormalNucleoli', y = 'UniformityofCellSize', data = df, hue = 'Class' , palette='magma')\n",
        "ax4 = sns.scatterplot(x = user_data['NormalNucleoli'], y = user_data['UniformityofCellSize'], s = 150, color = color)\n",
        "plt.xticks(np.arange(0,15,1))\n",
        "plt.yticks(np.arange(0,10,1))\n",
        "plt.title('2 - Healthy & 4 - Unhealthy')\n",
        "st.pyplot(fig_UniformityofCellSize)\n",
        "\n",
        "\n",
        "\n",
        "# NormalNucleoli vs UniformityofCellShape\n",
        "st.header('UniformityofCellShape Value Graph (Others vs Yours)')\n",
        "fig_UniformityofCellShape = plt.figure()\n",
        "ax5 = sns.scatterplot(x = 'NormalNucleoli', y = 'UniformityofCellShape', data = df, hue = 'Class', palette='Reds')\n",
        "ax6 = sns.scatterplot(x = user_data['NormalNucleoli'], y = user_data['UniformityofCellShape'], s = 150, color = color)\n",
        "plt.xticks(np.arange(0,15,1))\n",
        "plt.yticks(np.arange(0,10,1))\n",
        "plt.title('2 - Healthy & 4 - Unhealthy')\n",
        "st.pyplot(fig_UniformityofCellShape)\n",
        "\n",
        "\n",
        "# NormalNucleoli vs St\n",
        "st.header('MarginalAdhesion Value Graph (Others vs Yours)')\n",
        "fig_st = plt.figure()\n",
        "ax7 = sns.scatterplot(x = 'NormalNucleoli', y = 'MarginalAdhesion', data = df, hue = 'Class', palette='Blues')\n",
        "ax8 = sns.scatterplot(x = user_data['NormalNucleoli'], y = user_data['MarginalAdhesion'], s = 150, color = color)\n",
        "plt.xticks(np.arange(0,15,1))\n",
        "plt.yticks(np.arange(0,10,1))\n",
        "plt.title('2 - Benign & 4 - Malignant')\n",
        "st.pyplot(fig_st)\n",
        "\n",
        "\n",
        "# NormalNucleoli vs SingleEpithelialCellSize\n",
        "st.header('SingleEpithelialCellSize Value Graph (Others vs Yours)')\n",
        "fig_i = plt.figure()\n",
        "ax9 = sns.scatterplot(x = 'NormalNucleoli', y = 'SingleEpithelialCellSize', data = df, hue = 'Class', palette='rocket')\n",
        "ax10 = sns.scatterplot(x = user_data['NormalNucleoli'], y = user_data['SingleEpithelialCellSize'], s = 150, color = color)\n",
        "plt.xticks(np.arange(0,15,1))\n",
        "plt.yticks(np.arange(0,10,1))\n",
        "plt.title('2 - Benign & 4 - Malignant')\n",
        "st.pyplot(fig_i)\n",
        "\n",
        "\n",
        "# NormalNucleoli vs BareNuclei\n",
        "st.header('BareNuclei Value Graph (Others vs Yours)')\n",
        "fig_BareNuclei = plt.figure()\n",
        "ax11 = sns.scatterplot(x = 'NormalNucleoli', y = 'BareNuclei', data = df, hue = 'Class', palette='rainbow')\n",
        "ax12 = sns.scatterplot(x = user_data['NormalNucleoli'], y = user_data['BareNuclei'], s = 150, color = color)\n",
        "plt.xticks(np.arange(0,15,1))\n",
        "plt.yticks(np.arange(0,10,1))\n",
        "plt.title('2 - Benign & 4 - Malignant')\n",
        "st.pyplot(fig_BareNuclei)\n",
        "\n",
        "\n",
        "# NormalNucleoli vs BlandChromatin\n",
        "st.header('BlandChromatin Value Graph (Others vs Yours)')\n",
        "fig_BlandChromatin = plt.figure()\n",
        "ax13 = sns.scatterplot(x = 'NormalNucleoli', y = 'BlandChromatin', data = df, hue = 'Class', palette='YlOrBr')\n",
        "ax14 = sns.scatterplot(x = user_data['NormalNucleoli'], y = user_data['BlandChromatin'], s = 150, color = color)\n",
        "plt.xticks(np.arange(0,15,1))\n",
        "plt.yticks(np.arange(0,10,1))\n",
        "plt.title('2 - Benign & 4 - Malignant')\n",
        "st.pyplot(fig_BlandChromatin)\n",
        "\n",
        "st.header('Mitoses Graph (Others vs Yours)')\n",
        "fig_Mitoses = plt.figure()\n",
        "ax13 = sns.scatterplot(x = 'NormalNucleoli', y = 'Mitoses', data = df, hue = 'Class', palette='YlOrBr')\n",
        "ax14 = sns.scatterplot(x = user_data['NormalNucleoli'], y = user_data['BlandChromatin'], s = 150, color = color)\n",
        "plt.xticks(np.arange(0,15,1))\n",
        "plt.yticks(np.arange(0,10,1))\n",
        "plt.title('2 - Benign & 4 - Malignant')\n",
        "st.pyplot(fig_Mitoses)\n",
        "\n",
        "\n",
        "\n",
        "# OUTPUT\n",
        "st.subheader('Your Report: ')\n",
        "output=''\n",
        "if user_result[0]==2:\n",
        "  output = 'You do not have breast cancer'\n",
        "else:\n",
        "  output = 'You have breast cancer'\n",
        "st.title(output)\n",
        "st.subheader('Accuracy: ')\n",
        "st.write(str(accuracy_score(y_test, rf.predict(x_test))*100)+'%')"
      ]
    },
    {
      "cell_type": "code",
      "source": [
        "!npm install localtunnel"
      ],
      "metadata": {
        "colab": {
          "base_uri": "https://localhost:8080/"
        },
        "id": "NT2MTukOM2Ss",
        "outputId": "3c3cdf54-e3fc-4651-b0ec-89291e3c98e3"
      },
      "execution_count": 3,
      "outputs": [
        {
          "output_type": "stream",
          "name": "stdout",
          "text": [
            "\u001b[K\u001b[?25h\u001b[37;40mnpm\u001b[0m \u001b[0m\u001b[30;43mWARN\u001b[0m \u001b[0m\u001b[35msaveError\u001b[0m ENOENT: no such file or directory, open '/content/package.json'\n",
            "\u001b[0m\u001b[37;40mnpm\u001b[0m \u001b[0m\u001b[34;40mnotice\u001b[0m\u001b[35m\u001b[0m created a lockfile as package-lock.json. You should commit this file.\n",
            "\u001b[0m\u001b[37;40mnpm\u001b[0m \u001b[0m\u001b[30;43mWARN\u001b[0m \u001b[0m\u001b[35menoent\u001b[0m ENOENT: no such file or directory, open '/content/package.json'\n",
            "\u001b[0m\u001b[37;40mnpm\u001b[0m \u001b[0m\u001b[30;43mWARN\u001b[0m\u001b[35m\u001b[0m content No description\n",
            "\u001b[0m\u001b[37;40mnpm\u001b[0m \u001b[0m\u001b[30;43mWARN\u001b[0m\u001b[35m\u001b[0m content No repository field.\n",
            "\u001b[0m\u001b[37;40mnpm\u001b[0m \u001b[0m\u001b[30;43mWARN\u001b[0m\u001b[35m\u001b[0m content No README data\n",
            "\u001b[0m\u001b[37;40mnpm\u001b[0m \u001b[0m\u001b[30;43mWARN\u001b[0m\u001b[35m\u001b[0m content No license field.\n",
            "\u001b[0m\n",
            "+ localtunnel@2.0.2\n",
            "added 22 packages from 22 contributors and audited 22 packages in 2.112s\n",
            "\n",
            "3 packages are looking for funding\n",
            "  run `npm fund` for details\n",
            "\n",
            "found 1 \u001b[93mmoderate\u001b[0m severity vulnerability\n",
            "  run `npm audit fix` to fix them, or `npm audit` for details\n",
            "\u001b[K\u001b[?25h"
          ]
        }
      ]
    },
    {
      "cell_type": "code",
      "source": [
        "!streamlit run appb.py & npx localtunnel --port 8501 & curl ipv4.icanhazip.com"
      ],
      "metadata": {
        "colab": {
          "base_uri": "https://localhost:8080/"
        },
        "id": "SLeXL6FZM84S",
        "outputId": "117c6fa4-811e-416f-9b26-5c6825345e76"
      },
      "execution_count": 9,
      "outputs": [
        {
          "output_type": "stream",
          "name": "stdout",
          "text": [
            "35.196.248.222\n",
            "\n",
            "Collecting usage statistics. To deactivate, set browser.gatherUsageStats to false.\n",
            "\u001b[0m\n",
            "\u001b[0m\n",
            "\u001b[34m\u001b[1m  You can now view your Streamlit app in your browser.\u001b[0m\n",
            "\u001b[0m\n",
            "\u001b[34m  Local URL: \u001b[0m\u001b[1mhttp://localhost:8501\u001b[0m\n",
            "\u001b[34m  Network URL: \u001b[0m\u001b[1mhttp://172.28.0.12:8501\u001b[0m\n",
            "\u001b[34m  External URL: \u001b[0m\u001b[1mhttp://35.196.248.222:8501\u001b[0m\n",
            "\u001b[0m\n",
            "\u001b[K\u001b[?25hnpx: installed 22 in 2.483s\n",
            "your url is: https://four-cats-sneeze.loca.lt\n",
            "\u001b[34m  Stopping...\u001b[0m\n"
          ]
        }
      ]
    }
  ]
}